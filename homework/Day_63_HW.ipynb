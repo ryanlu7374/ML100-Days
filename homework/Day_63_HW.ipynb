{
 "cells": [
  {
   "cell_type": "code",
   "execution_count": 1,
   "metadata": {},
   "outputs": [
    {
     "name": "stdout",
     "output_type": "stream",
     "text": [
      "(3, 4)\n",
      "[[1 0 1 0]\n",
      " [1 0 1 1]\n",
      " [0 1 0 1]]\n",
      "(3, 1)\n"
     ]
    }
   ],
   "source": [
    "import numpy as np\n",
    "\n",
    "#Input array\n",
    "X = np.array([[1, 0, 1, 0], [1 ,0 ,1 ,1 ],[ 0 , 1 , 0 , 1 ]])\n",
    "print(X.shape)\n",
    "print(X)\n",
    "\n",
    "#Output\n",
    "y = np.array([[1], [1], [0]])\n",
    "print(y.shape)"
   ]
  },
  {
   "cell_type": "code",
   "execution_count": 2,
   "metadata": {},
   "outputs": [],
   "source": [
    "#Sigmoid Function\n",
    "def sigmoid(x): \n",
    "    return  1/(1+np.exp(-x))\n",
    "\n",
    "#Derivative of Sigmoid Function\n",
    "def derivatives_sigmoid(x): \n",
    "    return x*(1-x)"
   ]
  },
  {
   "cell_type": "code",
   "execution_count": 3,
   "metadata": {},
   "outputs": [
    {
     "name": "stdout",
     "output_type": "stream",
     "text": [
      "4\n"
     ]
    }
   ],
   "source": [
    "#Variable initialization\n",
    "epoch = 5000 #Setting training iterations\n",
    "lr = 0.1 #Setting learning rate\n",
    "inputlayer_neurons = X.shape[1] #number of features in data set \n",
    "print(inputlayer_neurons)\n",
    "hiddenlayer_neurons = 3 #number of hidden layers neurons\n",
    "output_neurons = 1 #number of neurons at output layer"
   ]
  },
  {
   "cell_type": "code",
   "execution_count": 4,
   "metadata": {},
   "outputs": [
    {
     "name": "stdout",
     "output_type": "stream",
     "text": [
      "[[0.1221966  0.17270693 0.81627509]\n",
      " [0.49044368 0.02204973 0.14827173]\n",
      " [0.62824806 0.66264992 0.32523807]\n",
      " [0.70601823 0.50765425 0.52728279]]\n",
      "[[0.10835864 0.43091227 0.8721998 ]]\n",
      "[[0.1173871 ]\n",
      " [0.4945353 ]\n",
      " [0.79883625]]\n",
      "[[0.93191492]]\n"
     ]
    }
   ],
   "source": [
    "#weight and bias initialization\n",
    "wh = np.random.uniform( size = ( inputlayer_neurons , hiddenlayer_neurons ) ) \n",
    "print(wh)\n",
    "bh = np.random.uniform( size = ( 1 , hiddenlayer_neurons ) ) \n",
    "print(bh)\n",
    "wout = np.random.uniform( size = ( hiddenlayer_neurons , output_neurons ) )  \n",
    "print(wout)\n",
    "bout = np.random.uniform( size = ( 1 , output_neurons ) )\n",
    "print(bout)"
   ]
  },
  {
   "cell_type": "markdown",
   "metadata": {
    "collapsed": true
   },
   "source": [
    "# 作業 \n",
    "* 請參閱範例中的 hidden Layer 寫法, 完成 output Layer 的程式"
   ]
  },
  {
   "cell_type": "code",
   "execution_count": 6,
   "metadata": {},
   "outputs": [
    {
     "name": "stdout",
     "output_type": "stream",
     "text": [
      "output of Forward Propogation:\n",
      "[[0.9840557 ]\n",
      " [0.97403799]\n",
      " [0.03448233]]\n",
      "wout,bout of Backpropagation:\n",
      "[[-3.46332259]\n",
      " [ 2.4445732 ]\n",
      " [ 2.98044422]],\n",
      "[[-0.71299014]]\n"
     ]
    }
   ],
   "source": [
    "for i in  range ( epoch ) :\n",
    "    #Forward Propogation\n",
    "    hidden_layer_input1 = np.dot(X, wh) \n",
    "#     print(hidden_layer_input1)\n",
    "\n",
    "    hidden_layer_input = hidden_layer_input1 + bh\n",
    "#     print(hidden_layer_input)\n",
    "\n",
    "    hiddenlayer_activations =  sigmoid( hidden_layer_input )\n",
    "#     print(hiddenlayer_activations)\n",
    "\n",
    "    output_layer_input1 = np.dot(hiddenlayer_activations, wout)\n",
    "#     print(output_layer_input1)\n",
    "\n",
    "    output_layer_input = output_layer_input1 + bout\n",
    "#     print(output_layer_input)\n",
    "\n",
    "    output = sigmoid(output_layer_input)\n",
    "#     print(output)\n",
    "    \n",
    "    #Backpropagation\n",
    "    E = y - output\n",
    "#     print(E)\n",
    "    \n",
    "    slope_output_layer = derivatives_sigmoid(output)\n",
    "#     print(slope_output_layer)\n",
    "\n",
    "    slope_hidden_layer = derivatives_sigmoid(hiddenlayer_activations)\n",
    "#     print(slope_hidden_layer)\n",
    "\n",
    "    d_output = E * slope_output_layer\n",
    "#     print(d_output)\n",
    "    \n",
    "    Error_at_hidden_layer = d_output.dot(wout.T)\n",
    "#     print(Error_at_hidden_layer)\n",
    "    \n",
    "    d_hiddenlayer = Error_at_hidden_layer * slope_hidden_layer\n",
    "#     print(d_hiddenlayer)\n",
    "    \n",
    "    wout += hiddenlayer_activations.T.dot(d_output) *lr\n",
    "    bout += np.sum(d_output, axis=0,keepdims=True) *lr\n",
    "    wh += X.T.dot(d_hiddenlayer) *lr\n",
    "    bh += np.sum(d_hiddenlayer, axis=0,keepdims=True) *lr\n",
    "    \n",
    "    \n",
    "print ( \"output of Forward Propogation:\\n{}\" .format(output)) \n",
    "print ( \"wout,bout of Backpropagation:\\n{},\\n{}\" .format(wout, bout ))"
   ]
  }
 ],
 "metadata": {
  "kernelspec": {
   "display_name": "Python 3",
   "language": "python",
   "name": "python3"
  },
  "language_info": {
   "codemirror_mode": {
    "name": "ipython",
    "version": 3
   },
   "file_extension": ".py",
   "mimetype": "text/x-python",
   "name": "python",
   "nbconvert_exporter": "python",
   "pygments_lexer": "ipython3",
   "version": "3.6.4"
  }
 },
 "nbformat": 4,
 "nbformat_minor": 2
}
