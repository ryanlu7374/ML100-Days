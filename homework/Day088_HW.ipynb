{
 "cells": [
  {
   "cell_type": "markdown",
   "metadata": {},
   "source": [
    "## Work\n",
    "1. 請嘗試寫一個 callback 用來記錄各類別在訓練過程中，對驗證集的 True Positive 與 True Negative"
   ]
  },
  {
   "cell_type": "code",
   "execution_count": 1,
   "metadata": {},
   "outputs": [
    {
     "name": "stderr",
     "output_type": "stream",
     "text": [
      "D:\\Users\\ryanl\\Anaconda3\\lib\\site-packages\\h5py\\__init__.py:36: FutureWarning: Conversion of the second argument of issubdtype from `float` to `np.floating` is deprecated. In future, it will be treated as `np.float64 == np.dtype(float).type`.\n",
      "  from ._conv import register_converters as _register_converters\n",
      "Using TensorFlow backend.\n"
     ]
    }
   ],
   "source": [
    "import os\n",
    "import keras\n",
    "\n",
    "# Disable GPU\n",
    "os.environ[\"CUDA_VISIBLE_DEVICES\"] = \"\""
   ]
  },
  {
   "cell_type": "code",
   "execution_count": 2,
   "metadata": {},
   "outputs": [],
   "source": [
    "train, test = keras.datasets.cifar10.load_data()"
   ]
  },
  {
   "cell_type": "code",
   "execution_count": 3,
   "metadata": {},
   "outputs": [],
   "source": [
    "## 資料前處理\n",
    "def preproc_x(x, flatten=True):\n",
    "    x = x / 255.\n",
    "    if flatten:\n",
    "        x = x.reshape((len(x), -1))\n",
    "    return x\n",
    "\n",
    "def preproc_y(y, num_classes=10):\n",
    "    if y.shape[-1] == 1:\n",
    "        y = keras.utils.to_categorical(y, num_classes)\n",
    "    return y    "
   ]
  },
  {
   "cell_type": "code",
   "execution_count": 4,
   "metadata": {},
   "outputs": [],
   "source": [
    "x_train, y_train = train\n",
    "x_test, y_test = test\n",
    "\n",
    "# Preproc the inputs\n",
    "x_train = preproc_x(x_train)\n",
    "x_test = preproc_x(x_test)\n",
    "\n",
    "# Preprc the outputs\n",
    "y_train = preproc_y(y_train)\n",
    "y_test = preproc_y(y_test)"
   ]
  },
  {
   "cell_type": "code",
   "execution_count": 5,
   "metadata": {},
   "outputs": [],
   "source": [
    "from keras.layers import BatchNormalization\n",
    "def build_mlp(input_shape, output_units=10, num_neurons=[256, 256, 256]):\n",
    "    input_layer = keras.layers.Input(input_shape)\n",
    "    \n",
    "    for i, n_units in enumerate(num_neurons):\n",
    "        if i == 0:\n",
    "            x = keras.layers.Dense(units=n_units, \n",
    "                                   activation=\"relu\", \n",
    "                                   name=\"hidden_layer\"+str(i+1))(input_layer)\n",
    "            x = BatchNormalization()(x)\n",
    "        else:\n",
    "            x = keras.layers.Dense(units=n_units, \n",
    "                                   activation=\"relu\", \n",
    "                                   name=\"hidden_layer\"+str(i+1))(x)\n",
    "            x = BatchNormalization()(x)\n",
    "    \n",
    "    out = keras.layers.Dense(units=output_units, activation=\"softmax\", name=\"output\")(x)\n",
    "    \n",
    "    model = keras.models.Model(inputs=[input_layer], outputs=[out])\n",
    "    return model"
   ]
  },
  {
   "cell_type": "code",
   "execution_count": 6,
   "metadata": {},
   "outputs": [],
   "source": [
    "## 超參數設定\n",
    "LEARNING_RATE = 1e-3\n",
    "EPOCHS = 25\n",
    "BATCH_SIZE = 1024\n",
    "MOMENTUM = 0.95"
   ]
  },
  {
   "cell_type": "code",
   "execution_count": 7,
   "metadata": {},
   "outputs": [],
   "source": [
    "# 載入 Callbacks\n",
    "from keras.callbacks import Callback\n",
    "\n",
    "\n",
    "# Record_fp_tp\n",
    "class Record_tp_tn(Callback):\n",
    "    \"\"\"Define a callback function to collect tp/tn, named Record_fp_tp.\n",
    "    \n",
    "    \"\"\"\n",
    "    def on_train_begin(self, epoch, logs = {}):\n",
    "        logs = logs or {}\n",
    "        record_items = [\"val_auc\", \"val_f1sc\", \"val_fp\", \"val_fn\", \"val_tp\", \"val_tn\"]\n",
    "        print('\\n','params0:', self.params)\n",
    "        for i in record_items:\n",
    "            if i not in self.params['metrics']:\n",
    "                self.params['metrics'].append(i)\n",
    "    \n",
    "    def on_epoch_end(self, epoch, logs = {}, thres=0.5):\n",
    "        logs = logs or {}\n",
    "        y_true = self.validation_data[1].argmax(axis = 1)\n",
    "        y_pred = self.model.predict(self.validation_data[0])\n",
    "        y_pred = (y_pred[:, 1] >= thres) * 1\n",
    "        \n",
    "        FP = confusion_matrix(y_true, y_pred).sum(axis=0) - np.diag(confusion_matrix(y_true, y_pred)) \n",
    "        FN = confusion_matrix(y_true, y_pred).sum(axis=1) - np.diag(confusion_matrix(y_true, y_pred))\n",
    "        TP = np.diag(confusion_matrix(y_true, y_pred))\n",
    "        TN = confusion_matrix(y_true, y_pred).sum() - (FP + FN + TP)\n",
    "        print('\\n','each_class TP:', TP)\n",
    "        print('each_class TN:', TN)\n",
    "        logs[\"val_tp\"] = TP\n",
    "        logs[\"val_tn\"] = TN\n",
    "        \n",
    "rec_tptn = Record_tp_tn()"
   ]
  },
  {
   "cell_type": "code",
   "execution_count": 9,
   "metadata": {
    "scrolled": false
   },
   "outputs": [
    {
     "name": "stdout",
     "output_type": "stream",
     "text": [
      "_________________________________________________________________\n",
      "Layer (type)                 Output Shape              Param #   \n",
      "=================================================================\n",
      "input_2 (InputLayer)         (None, 3072)              0         \n",
      "_________________________________________________________________\n",
      "hidden_layer1 (Dense)        (None, 256)               786688    \n",
      "_________________________________________________________________\n",
      "batch_normalization_4 (Batch (None, 256)               1024      \n",
      "_________________________________________________________________\n",
      "hidden_layer2 (Dense)        (None, 256)               65792     \n",
      "_________________________________________________________________\n",
      "batch_normalization_5 (Batch (None, 256)               1024      \n",
      "_________________________________________________________________\n",
      "hidden_layer3 (Dense)        (None, 256)               65792     \n",
      "_________________________________________________________________\n",
      "batch_normalization_6 (Batch (None, 256)               1024      \n",
      "_________________________________________________________________\n",
      "output (Dense)               (None, 10)                2570      \n",
      "=================================================================\n",
      "Total params: 923,914\n",
      "Trainable params: 922,378\n",
      "Non-trainable params: 1,536\n",
      "_________________________________________________________________\n",
      "Train on 50000 samples, validate on 10000 samples\n",
      "\n",
      " params0: {'batch_size': 1024, 'epochs': 25, 'steps': None, 'samples': 50000, 'verbose': 1, 'do_validation': True, 'metrics': ['loss', 'acc', 'val_loss', 'val_acc']}\n",
      "Epoch 1/25\n",
      "49152/50000 [============================>.] - ETA: 0s - loss: 2.2525 - acc: 0.2608- ETA: 3s\n",
      " each_class TP: [1000    0    0    0    0    0    0    0    0    0]\n",
      "each_class TN: [   0 9000 9000 9000 9000 9000 9000 9000 9000 9000]\n",
      "50000/50000 [==============================] - 7s 133us/step - loss: 2.2465 - acc: 0.2622 - val_loss: 2.1433 - val_acc: 0.1794 - val_tp: 100.0000 - val_tn: 8100.0000\n",
      "Epoch 2/25\n",
      "49152/50000 [============================>.] - ETA: 0s - loss: 1.7641 - acc: 0.3891\n",
      " each_class TP: [1000    0    0    0    0    0    0    0    0    0]\n",
      "each_class TN: [   0 9000 9000 9000 9000 9000 9000 9000 9000 9000]\n",
      "50000/50000 [==============================] - 6s 119us/step - loss: 1.7621 - acc: 0.3897 - val_loss: 1.9984 - val_acc: 0.2968 - val_tp: 100.0000 - val_tn: 8100.0000\n",
      "Epoch 3/25\n",
      "49152/50000 [============================>.] - ETA: 0s - loss: 1.6319 - acc: 0.4291\n",
      " each_class TP: [1000    2    0    0    0    0    0    0    0    0]\n",
      "each_class TN: [   2 9000 9000 9000 9000 9000 9000 9000 9000 9000]\n",
      "50000/50000 [==============================] - 6s 122us/step - loss: 1.6304 - acc: 0.4296 - val_loss: 1.8582 - val_acc: 0.3624 - val_tp: 100.2000 - val_tn: 8100.2000\n",
      "Epoch 4/25\n",
      "49152/50000 [============================>.] - ETA: 0s - loss: 1.5584 - acc: 0.4531\n",
      " each_class TP: [1000   19    0    0    0    0    0    0    0    0]\n",
      "each_class TN: [  23 8996 9000 9000 9000 9000 9000 9000 9000 9000]\n",
      "50000/50000 [==============================] - 7s 142us/step - loss: 1.5573 - acc: 0.4533 - val_loss: 1.7236 - val_acc: 0.4121 - val_tp: 101.9000 - val_tn: 8101.9000\n",
      "Epoch 5/25\n",
      "49152/50000 [============================>.] - ETA: 0s - loss: 1.5047 - acc: 0.4723\n",
      " each_class TP: [998 118   0   0   0   0   0   0   0   0]\n",
      "each_class TN: [ 138 8978 9000 9000 9000 9000 9000 9000 9000 9000]\n",
      "50000/50000 [==============================] - 7s 144us/step - loss: 1.5050 - acc: 0.4720 - val_loss: 1.6368 - val_acc: 0.4373 - val_tp: 111.6000 - val_tn: 8111.6000\n",
      "Epoch 6/25\n",
      "49152/50000 [============================>.] - ETA: 0s - loss: 1.4588 - acc: 0.4879\n",
      " each_class TP: [997 211   0   0   0   0   0   0   0   0]\n",
      "each_class TN: [ 278 8930 9000 9000 9000 9000 9000 9000 9000 9000]\n",
      "50000/50000 [==============================] - 7s 143us/step - loss: 1.4594 - acc: 0.4877 - val_loss: 1.5798 - val_acc: 0.4492 - val_tp: 120.8000 - val_tn: 8120.8000\n",
      "Epoch 7/25\n",
      "49152/50000 [============================>.] - ETA: 0s - loss: 1.4210 - acc: 0.5009\n",
      " each_class TP: [995 258   0   0   0   0   0   0   0   0]\n",
      "each_class TN: [ 337 8916 9000 9000 9000 9000 9000 9000 9000 9000]\n",
      "50000/50000 [==============================] - 7s 141us/step - loss: 1.4204 - acc: 0.5011 - val_loss: 1.5414 - val_acc: 0.4595 - val_tp: 125.3000 - val_tn: 8125.3000\n",
      "Epoch 8/25\n",
      "49152/50000 [============================>.] - ETA: 0s - loss: 1.3891 - acc: 0.5123\n",
      " each_class TP: [995 303   0   0   0   0   0   0   0   0]\n",
      "each_class TN: [ 398 8900 9000 9000 9000 9000 9000 9000 9000 9000]\n",
      "50000/50000 [==============================] - 8s 155us/step - loss: 1.3889 - acc: 0.5124 - val_loss: 1.5176 - val_acc: 0.4657 - val_tp: 129.8000 - val_tn: 8129.8000\n",
      "Epoch 9/25\n",
      "49152/50000 [============================>.] - ETA: 0s - loss: 1.3585 - acc: 0.5243\n",
      " each_class TP: [991 393   0   0   0   0   0   0   0   0]\n",
      "each_class TN: [ 555 8829 9000 9000 9000 9000 9000 9000 9000 9000]\n",
      "50000/50000 [==============================] - 8s 161us/step - loss: 1.3600 - acc: 0.5238 - val_loss: 1.5086 - val_acc: 0.4677 - val_tp: 138.4000 - val_tn: 8138.4000\n",
      "Epoch 10/25\n",
      "49152/50000 [============================>.] - ETA: 0s - loss: 1.3343 - acc: 0.5357\n",
      " each_class TP: [993 372   0   0   0   0   0   0   0   0]\n",
      "each_class TN: [ 500 8865 9000 9000 9000 9000 9000 9000 9000 9000]\n",
      "50000/50000 [==============================] - 7s 144us/step - loss: 1.3335 - acc: 0.5361 - val_loss: 1.4910 - val_acc: 0.4766 - val_tp: 136.5000 - val_tn: 8136.5000\n",
      "Epoch 11/25\n",
      "49152/50000 [============================>.] - ETA: 0s - loss: 1.3081 - acc: 0.5435\n",
      " each_class TP: [987 398   0   0   0   0   0   0   0   0]\n",
      "each_class TN: [ 544 8841 9000 9000 9000 9000 9000 9000 9000 9000]\n",
      "50000/50000 [==============================] - 7s 142us/step - loss: 1.3083 - acc: 0.5437 - val_loss: 1.4891 - val_acc: 0.4749 - val_tp: 138.5000 - val_tn: 8138.5000\n",
      "Epoch 12/25\n",
      "49152/50000 [============================>.] - ETA: 0s - loss: 1.2832 - acc: 0.5531\n",
      " each_class TP: [984 424   0   0   0   0   0   0   0   0]\n",
      "each_class TN: [ 583 8825 9000 9000 9000 9000 9000 9000 9000 9000]\n",
      "50000/50000 [==============================] - 7s 143us/step - loss: 1.2838 - acc: 0.5528 - val_loss: 1.4756 - val_acc: 0.4793 - val_tp: 140.8000 - val_tn: 8140.8000\n",
      "Epoch 13/25\n",
      "49152/50000 [============================>.] - ETA: 0s - loss: 1.2602 - acc: 0.5605\n",
      " each_class TP: [980 487   0   0   0   0   0   0   0   0]\n",
      "each_class TN: [ 724 8743 9000 9000 9000 9000 9000 9000 9000 9000]\n",
      "50000/50000 [==============================] - 7s 146us/step - loss: 1.2608 - acc: 0.5607 - val_loss: 1.4648 - val_acc: 0.4810 - val_tp: 146.7000 - val_tn: 8146.7000\n",
      "Epoch 14/25\n",
      "49152/50000 [============================>.] - ETA: 0s - loss: 1.2374 - acc: 0.5702\n",
      " each_class TP: [992 393   0   0   0   0   0   0   0   0]\n",
      "each_class TN: [ 526 8859 9000 9000 9000 9000 9000 9000 9000 9000]\n",
      "50000/50000 [==============================] - 7s 145us/step - loss: 1.2377 - acc: 0.5700 - val_loss: 1.4597 - val_acc: 0.4877 - val_tp: 138.5000 - val_tn: 8138.5000\n",
      "Epoch 15/25\n",
      "49152/50000 [============================>.] - ETA: 0s - loss: 1.2174 - acc: 0.5794\n",
      " each_class TP: [984 428   0   0   0   0   0   0   0   0]\n",
      "each_class TN: [ 602 8810 9000 9000 9000 9000 9000 9000 9000 9000]\n",
      "50000/50000 [==============================] - 7s 144us/step - loss: 1.2176 - acc: 0.5792 - val_loss: 1.4549 - val_acc: 0.4873 - val_tp: 141.2000 - val_tn: 8141.2000\n",
      "Epoch 16/25\n",
      "49152/50000 [============================>.] - ETA: 0s - loss: 1.1979 - acc: 0.5852\n",
      " each_class TP: [983 459   0   0   0   0   0   0   0   0]\n",
      "each_class TN: [ 654 8788 9000 9000 9000 9000 9000 9000 9000 9000]\n",
      "50000/50000 [==============================] - 7s 143us/step - loss: 1.1980 - acc: 0.5852 - val_loss: 1.4619 - val_acc: 0.4872 - val_tp: 144.2000 - val_tn: 8144.2000\n",
      "Epoch 17/25\n",
      "49152/50000 [============================>.] - ETA: 0s - loss: 1.1791 - acc: 0.5918\n",
      " each_class TP: [985 435   0   0   0   0   0   0   0   0]\n",
      "each_class TN: [ 602 8818 9000 9000 9000 9000 9000 9000 9000 9000]\n",
      "50000/50000 [==============================] - 7s 145us/step - loss: 1.1796 - acc: 0.5913 - val_loss: 1.4508 - val_acc: 0.4906 - val_tp: 142.0000 - val_tn: 8142.0000\n"
     ]
    },
    {
     "name": "stdout",
     "output_type": "stream",
     "text": [
      "Epoch 18/25\n",
      "49152/50000 [============================>.] - ETA: 0s - loss: 1.1605 - acc: 0.6002\n",
      " each_class TP: [974 526   0   0   0   0   0   0   0   0]\n",
      "each_class TN: [ 804 8696 9000 9000 9000 9000 9000 9000 9000 9000]\n",
      "50000/50000 [==============================] - 7s 140us/step - loss: 1.1600 - acc: 0.6006 - val_loss: 1.4578 - val_acc: 0.4876 - val_tp: 150.0000 - val_tn: 8150.0000\n",
      "Epoch 19/25\n",
      "49152/50000 [============================>.] - ETA: 0s - loss: 1.1420 - acc: 0.6057\n",
      " each_class TP: [984 439   0   0   0   0   0   0   0   0]\n",
      "each_class TN: [ 589 8834 9000 9000 9000 9000 9000 9000 9000 9000]\n",
      "50000/50000 [==============================] - 7s 140us/step - loss: 1.1411 - acc: 0.6061 - val_loss: 1.4535 - val_acc: 0.4944 - val_tp: 142.3000 - val_tn: 8142.3000\n",
      "Epoch 20/25\n",
      "49152/50000 [============================>.] - ETA: 0s - loss: 1.1220 - acc: 0.6157\n",
      " each_class TP: [983 497   0   0   0   0   0   0   0   0]\n",
      "each_class TN: [ 731 8749 9000 9000 9000 9000 9000 9000 9000 9000]\n",
      "50000/50000 [==============================] - 7s 141us/step - loss: 1.1230 - acc: 0.6155 - val_loss: 1.4493 - val_acc: 0.4913 - val_tp: 148.0000 - val_tn: 8148.0000\n",
      "Epoch 21/25\n",
      "49152/50000 [============================>.] - ETA: 0s - loss: 1.1055 - acc: 0.6198\n",
      " each_class TP: [985 434   0   0   0   0   0   0   0   0]\n",
      "each_class TN: [ 610 8809 9000 9000 9000 9000 9000 9000 9000 9000]\n",
      "50000/50000 [==============================] - 7s 141us/step - loss: 1.1055 - acc: 0.6200 - val_loss: 1.4461 - val_acc: 0.4889 - val_tp: 141.9000 - val_tn: 8141.9000\n",
      "Epoch 22/25\n",
      "49152/50000 [============================>.] - ETA: 0s - loss: 1.0889 - acc: 0.6274\n",
      " each_class TP: [977 506   0   0   0   0   0   0   0   0]\n",
      "each_class TN: [ 744 8739 9000 9000 9000 9000 9000 9000 9000 9000]\n",
      "50000/50000 [==============================] - 7s 141us/step - loss: 1.0891 - acc: 0.6273 - val_loss: 1.4427 - val_acc: 0.4884 - val_tp: 148.3000 - val_tn: 8148.3000\n",
      "Epoch 23/25\n",
      "49152/50000 [============================>.] - ETA: 0s - loss: 1.0734 - acc: 0.6329\n",
      " each_class TP: [982 492   0   0   0   0   0   0   0   0]\n",
      "each_class TN: [ 715 8759 9000 9000 9000 9000 9000 9000 9000 9000]\n",
      "50000/50000 [==============================] - 7s 142us/step - loss: 1.0729 - acc: 0.6333 - val_loss: 1.4352 - val_acc: 0.4953 - val_tp: 147.4000 - val_tn: 8147.4000\n",
      "Epoch 24/25\n",
      "49152/50000 [============================>.] - ETA: 0s - loss: 1.0546 - acc: 0.6412\n",
      " each_class TP: [983 476   0   0   0   0   0   0   0   0]\n",
      "each_class TN: [ 672 8787 9000 9000 9000 9000 9000 9000 9000 9000]\n",
      "50000/50000 [==============================] - 7s 140us/step - loss: 1.0554 - acc: 0.6409 - val_loss: 1.4502 - val_acc: 0.4902 - val_tp: 145.9000 - val_tn: 8145.9000\n",
      "Epoch 25/25\n",
      "49152/50000 [============================>.] - ETA: 0s - loss: 1.0400 - acc: 0.6467\n",
      " each_class TP: [982 494   0   0   0   0   0   0   0   0]\n",
      "each_class TN: [ 727 8749 9000 9000 9000 9000 9000 9000 9000 9000]\n",
      "50000/50000 [==============================] - 7s 141us/step - loss: 1.0393 - acc: 0.6467 - val_loss: 1.4445 - val_acc: 0.4982 - val_tp: 147.6000 - val_tn: 8147.6000\n"
     ]
    }
   ],
   "source": [
    "from sklearn.metrics import confusion_matrix\n",
    "import numpy as np\n",
    "\n",
    "model = build_mlp(input_shape=x_train.shape[1:])\n",
    "model.summary()\n",
    "optimizer = keras.optimizers.SGD(lr=LEARNING_RATE, nesterov=True, momentum=MOMENTUM)\n",
    "model.compile(loss=\"categorical_crossentropy\", metrics=[\"accuracy\"], optimizer=optimizer)\n",
    "\n",
    "\"\"\"\n",
    "To do:\n",
    "Fit the model with rec_tptn callback_fn\n",
    "\"\"\"\n",
    "model.fit(x_train, y_train, \n",
    "          epochs=EPOCHS, \n",
    "          batch_size=BATCH_SIZE, \n",
    "          validation_data=(x_test, y_test), \n",
    "          shuffle=True,\n",
    "          callbacks=[rec_tptn]\n",
    "         )\n",
    "\n",
    "# Collect results\n",
    "train_loss = model.history.history[\"loss\"]\n",
    "valid_loss = model.history.history[\"val_loss\"]\n",
    "train_acc = model.history.history[\"acc\"]\n",
    "valid_acc = model.history.history[\"val_acc\"]"
   ]
  },
  {
   "cell_type": "code",
   "execution_count": 11,
   "metadata": {},
   "outputs": [],
   "source": [
    "\n",
    "\"\"\"\n",
    "To do:\n",
    "Collect tp/tn from model history\n",
    "\"\"\"\n",
    "valid_tp = model.history.history['val_tp']\n",
    "valid_tn = model.history.history['val_tn']"
   ]
  },
  {
   "cell_type": "code",
   "execution_count": 12,
   "metadata": {},
   "outputs": [
    {
     "data": {
      "image/png": "[encoded data removed]",
      "text/plain": [
       "<Figure size 432x288 with 1 Axes>"
      ]
     },
     "metadata": {},
     "output_type": "display_data"
    },
    {
     "data": {
      "image/png": "[encoded data removed]",
      "text/plain": [
       "<Figure size 432x288 with 1 Axes>"
      ]
     },
     "metadata": {},
     "output_type": "display_data"
    },
    {
     "data": {
      "image/png": "[encoded data removed]",
      "text/plain": [
       "<Figure size 432x288 with 1 Axes>"
      ]
     },
     "metadata": {},
     "output_type": "display_data"
    }
   ],
   "source": [
    "import matplotlib.pyplot as plt\n",
    "%matplotlib inline\n",
    "\n",
    "plt.plot(range(len(train_loss)), train_loss, label=\"train loss\")\n",
    "plt.plot(range(len(valid_loss)), valid_loss, label=\"valid loss\")\n",
    "plt.legend()\n",
    "plt.title(\"Loss\")\n",
    "plt.show()\n",
    "\n",
    "plt.plot(range(len(train_acc)), train_acc, label=\"train accuracy\")\n",
    "plt.plot(range(len(valid_acc)), valid_acc, label=\"valid accuracy\")\n",
    "plt.legend()\n",
    "plt.title(\"Accuracy\")\n",
    "plt.show()\n",
    "\n",
    "plt.plot(range(len(valid_tp)), valid_tp, label=\"valid tp\", color=\"navy\")\n",
    "plt.plot(range(len(valid_tn)), valid_tn, label=\"valid tn\", color=\"red\")\n",
    "plt.legend()\n",
    "plt.title(\"True positives and True Negatives\")\n",
    "plt.show()\n"
   ]
  }
 ],
 "metadata": {
  "kernelspec": {
   "display_name": "Python 3",
   "language": "python",
   "name": "python3"
  },
  "language_info": {
   "codemirror_mode": {
    "name": "ipython",
    "version": 3
   },
   "file_extension": ".py",
   "mimetype": "text/x-python",
   "name": "python",
   "nbconvert_exporter": "python",
   "pygments_lexer": "ipython3",
   "version": "3.6.7"
  }
 },
 "nbformat": 4,
 "nbformat_minor": 2
}
