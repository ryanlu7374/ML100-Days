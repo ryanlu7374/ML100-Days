{
 "cells": [
  {
   "cell_type": "markdown",
   "metadata": {},
   "source": [
    "# 作業:\n",
    "嘗試調整參數:  \n",
    "sg:sg=1表示採用skip-gram,sg=0 表示採用cbow  \n",
    "window:能往左往右看幾個字的意思 "
   ]
  },
  {
   "cell_type": "code",
   "execution_count": 1,
   "metadata": {},
   "outputs": [
    {
     "name": "stderr",
     "output_type": "stream",
     "text": [
      "D:\\Users\\ryanl\\Anaconda3\\lib\\site-packages\\gensim\\utils.py:1197: UserWarning: detected Windows; aliasing chunkize to chunkize_serial\n",
      "  warnings.warn(\"detected Windows; aliasing chunkize to chunkize_serial\")\n"
     ]
    }
   ],
   "source": [
    "import gensim, logging\n",
    "from gensim.models import word2vec"
   ]
  },
  {
   "cell_type": "code",
   "execution_count": 25,
   "metadata": {},
   "outputs": [
    {
     "name": "stderr",
     "output_type": "stream",
     "text": [
      "2019-03-11 11:00:32,409 : INFO : collecting all words and their counts\n",
      "2019-03-11 11:00:32,409 : INFO : PROGRESS: at sentence #0, processed 0 words, keeping 0 word types\n",
      "2019-03-11 11:00:32,410 : INFO : collected 3 word types from a corpus of 4 raw words and 2 sentences\n",
      "2019-03-11 11:00:32,410 : INFO : Loading a fresh vocabulary\n",
      "2019-03-11 11:00:32,411 : INFO : min_count=1 retains 3 unique words (100% of original 3, drops 0)\n",
      "2019-03-11 11:00:32,411 : INFO : min_count=1 leaves 4 word corpus (100% of original 4, drops 0)\n",
      "2019-03-11 11:00:32,412 : INFO : deleting the raw counts dictionary of 3 items\n",
      "2019-03-11 11:00:32,412 : INFO : sample=0.001 downsamples 3 most-common words\n",
      "2019-03-11 11:00:32,413 : INFO : downsampling leaves estimated 0 word corpus (5.7% of prior 4)\n",
      "2019-03-11 11:00:32,413 : INFO : estimated required memory for 3 words and 256 dimensions: 7644 bytes\n",
      "2019-03-11 11:00:32,414 : INFO : resetting layer weights\n",
      "2019-03-11 11:00:32,414 : INFO : training model with 4 workers on 3 vocabulary and 256 features, using sg=1 hs=0 sample=0.001 negative=5 window=10\n",
      "2019-03-11 11:00:32,419 : INFO : worker thread finished; awaiting finish of 3 more threads\n",
      "2019-03-11 11:00:32,420 : INFO : worker thread finished; awaiting finish of 2 more threads\n",
      "2019-03-11 11:00:32,421 : INFO : worker thread finished; awaiting finish of 1 more threads\n",
      "2019-03-11 11:00:32,421 : INFO : worker thread finished; awaiting finish of 0 more threads\n",
      "2019-03-11 11:00:32,422 : INFO : EPOCH - 1 : training on 4 raw words (0 effective words) took 0.0s, 0 effective words/s\n",
      "2019-03-11 11:00:32,428 : INFO : worker thread finished; awaiting finish of 3 more threads\n",
      "2019-03-11 11:00:32,429 : INFO : worker thread finished; awaiting finish of 2 more threads\n",
      "2019-03-11 11:00:32,430 : INFO : worker thread finished; awaiting finish of 1 more threads\n",
      "2019-03-11 11:00:32,431 : INFO : worker thread finished; awaiting finish of 0 more threads\n",
      "2019-03-11 11:00:32,433 : INFO : EPOCH - 2 : training on 4 raw words (0 effective words) took 0.0s, 0 effective words/s\n",
      "2019-03-11 11:00:32,436 : INFO : worker thread finished; awaiting finish of 3 more threads\n",
      "2019-03-11 11:00:32,436 : INFO : worker thread finished; awaiting finish of 2 more threads\n",
      "2019-03-11 11:00:32,437 : INFO : worker thread finished; awaiting finish of 1 more threads\n",
      "2019-03-11 11:00:32,437 : INFO : worker thread finished; awaiting finish of 0 more threads\n",
      "2019-03-11 11:00:32,438 : INFO : EPOCH - 3 : training on 4 raw words (1 effective words) took 0.0s, 505 effective words/s\n",
      "2019-03-11 11:00:32,442 : INFO : worker thread finished; awaiting finish of 3 more threads\n",
      "2019-03-11 11:00:32,443 : INFO : worker thread finished; awaiting finish of 2 more threads\n",
      "2019-03-11 11:00:32,443 : INFO : worker thread finished; awaiting finish of 1 more threads\n",
      "2019-03-11 11:00:32,443 : INFO : worker thread finished; awaiting finish of 0 more threads\n",
      "2019-03-11 11:00:32,444 : INFO : EPOCH - 4 : training on 4 raw words (1 effective words) took 0.0s, 545 effective words/s\n",
      "2019-03-11 11:00:32,446 : INFO : worker thread finished; awaiting finish of 3 more threads\n",
      "2019-03-11 11:00:32,447 : INFO : worker thread finished; awaiting finish of 2 more threads\n",
      "2019-03-11 11:00:32,447 : INFO : worker thread finished; awaiting finish of 1 more threads\n",
      "2019-03-11 11:00:32,448 : INFO : worker thread finished; awaiting finish of 0 more threads\n",
      "2019-03-11 11:00:32,448 : INFO : EPOCH - 5 : training on 4 raw words (0 effective words) took 0.0s, 0 effective words/s\n",
      "2019-03-11 11:00:32,449 : INFO : training on a 20 raw words (2 effective words) took 0.0s, 59 effective words/s\n",
      "2019-03-11 11:00:32,449 : WARNING : under 10 jobs per worker: consider setting a smaller `batch_words' for smoother alpha decay\n"
     ]
    }
   ],
   "source": [
    "sentences = [['I am a hero', 'sentence'], ['She is a teacher', 'sentence']] \n",
    "# raw_sentences = [\"the quick brown fox jumps over the lazy dogs\",\"yoyoyo you go home now to sleep\"]\n",
    "# sentences= [s.encode('utf-8').split() for s in raw_sentences]\n",
    "\n",
    "logging.basicConfig(format='%(asctime)s : %(levelname)s : %(message)s', level=logging.INFO, ) \n",
    "\n",
    "# train word2vec on the two sentences  \n",
    "model = word2vec.Word2Vec(sentences, size=256, min_count=1, window=10, workers=4, sg=1) \n",
    "\n",
    "# sg=0 表示COBW, sg=1 表示skip-gram"
   ]
  },
  {
   "cell_type": "code",
   "execution_count": 3,
   "metadata": {},
   "outputs": [
    {
     "name": "stdout",
     "output_type": "stream",
     "text": [
      "Word2Vec(vocab=3, size=256, alpha=0.025)\n"
     ]
    }
   ],
   "source": [
    "print(model)"
   ]
  },
  {
   "cell_type": "code",
   "execution_count": 7,
   "metadata": {},
   "outputs": [
    {
     "name": "stderr",
     "output_type": "stream",
     "text": [
      "D:\\Users\\ryanl\\Anaconda3\\lib\\site-packages\\ipykernel_launcher.py:1: DeprecationWarning: Call to deprecated `similarity` (Method will be removed in 4.0.0, use self.wv.similarity() instead).\n",
      "  \"\"\"Entry point for launching an IPython kernel.\n"
     ]
    },
    {
     "data": {
      "text/plain": [
       "0.03839611140678717"
      ]
     },
     "execution_count": 7,
     "metadata": {},
     "output_type": "execute_result"
    }
   ],
   "source": [
    "model.similarity('I am a hero','She is a teacher')"
   ]
  },
  {
   "cell_type": "code",
   "execution_count": 22,
   "metadata": {},
   "outputs": [
    {
     "name": "stderr",
     "output_type": "stream",
     "text": [
      "2019-03-11 10:56:44,299 : INFO : collecting all words and their counts\n",
      "2019-03-11 10:56:44,300 : INFO : PROGRESS: at sentence #0, processed 0 words, keeping 0 word types\n",
      "2019-03-11 10:56:44,301 : INFO : collected 3 word types from a corpus of 4 raw words and 2 sentences\n",
      "2019-03-11 10:56:44,302 : INFO : Loading a fresh vocabulary\n",
      "2019-03-11 10:56:44,303 : INFO : min_count=1 retains 3 unique words (100% of original 3, drops 0)\n",
      "2019-03-11 10:56:44,304 : INFO : min_count=1 leaves 4 word corpus (100% of original 4, drops 0)\n",
      "2019-03-11 10:56:44,305 : INFO : deleting the raw counts dictionary of 3 items\n",
      "2019-03-11 10:56:44,305 : INFO : sample=0.001 downsamples 3 most-common words\n",
      "2019-03-11 10:56:44,306 : INFO : downsampling leaves estimated 0 word corpus (5.7% of prior 4)\n",
      "2019-03-11 10:56:44,306 : INFO : estimated required memory for 3 words and 256 dimensions: 7644 bytes\n",
      "2019-03-11 10:56:44,307 : INFO : resetting layer weights\n",
      "2019-03-11 10:56:44,308 : INFO : training model with 4 workers on 3 vocabulary and 256 features, using sg=0 hs=0 sample=0.001 negative=5 window=10\n",
      "2019-03-11 10:56:44,311 : INFO : worker thread finished; awaiting finish of 3 more threads\n",
      "2019-03-11 10:56:44,312 : INFO : worker thread finished; awaiting finish of 2 more threads\n",
      "2019-03-11 10:56:44,313 : INFO : worker thread finished; awaiting finish of 1 more threads\n",
      "2019-03-11 10:56:44,313 : INFO : worker thread finished; awaiting finish of 0 more threads\n",
      "2019-03-11 10:56:44,313 : INFO : EPOCH - 1 : training on 4 raw words (0 effective words) took 0.0s, 0 effective words/s\n",
      "2019-03-11 10:56:44,318 : INFO : worker thread finished; awaiting finish of 3 more threads\n",
      "2019-03-11 10:56:44,318 : INFO : worker thread finished; awaiting finish of 2 more threads\n",
      "2019-03-11 10:56:44,319 : INFO : worker thread finished; awaiting finish of 1 more threads\n",
      "2019-03-11 10:56:44,320 : INFO : worker thread finished; awaiting finish of 0 more threads\n",
      "2019-03-11 10:56:44,321 : INFO : EPOCH - 2 : training on 4 raw words (0 effective words) took 0.0s, 0 effective words/s\n",
      "2019-03-11 10:56:44,326 : INFO : worker thread finished; awaiting finish of 3 more threads\n",
      "2019-03-11 10:56:44,326 : INFO : worker thread finished; awaiting finish of 2 more threads\n",
      "2019-03-11 10:56:44,327 : INFO : worker thread finished; awaiting finish of 1 more threads\n",
      "2019-03-11 10:56:44,327 : INFO : worker thread finished; awaiting finish of 0 more threads\n",
      "2019-03-11 10:56:44,328 : INFO : EPOCH - 3 : training on 4 raw words (1 effective words) took 0.0s, 383 effective words/s\n",
      "2019-03-11 10:56:44,332 : INFO : worker thread finished; awaiting finish of 3 more threads\n",
      "2019-03-11 10:56:44,333 : INFO : worker thread finished; awaiting finish of 2 more threads\n",
      "2019-03-11 10:56:44,333 : INFO : worker thread finished; awaiting finish of 1 more threads\n",
      "2019-03-11 10:56:44,334 : INFO : worker thread finished; awaiting finish of 0 more threads\n",
      "2019-03-11 10:56:44,334 : INFO : EPOCH - 4 : training on 4 raw words (1 effective words) took 0.0s, 378 effective words/s\n",
      "2019-03-11 10:56:44,338 : INFO : worker thread finished; awaiting finish of 3 more threads\n",
      "2019-03-11 10:56:44,340 : INFO : worker thread finished; awaiting finish of 2 more threads\n",
      "2019-03-11 10:56:44,341 : INFO : worker thread finished; awaiting finish of 1 more threads\n",
      "2019-03-11 10:56:44,341 : INFO : worker thread finished; awaiting finish of 0 more threads\n",
      "2019-03-11 10:56:44,342 : INFO : EPOCH - 5 : training on 4 raw words (0 effective words) took 0.0s, 0 effective words/s\n",
      "2019-03-11 10:56:44,342 : INFO : training on a 20 raw words (2 effective words) took 0.0s, 58 effective words/s\n",
      "2019-03-11 10:56:44,343 : WARNING : under 10 jobs per worker: consider setting a smaller `batch_words' for smoother alpha decay\n"
     ]
    }
   ],
   "source": [
    "sentences = [['I am a hero', 'sentence'], ['She is a teacher', 'sentence']] \n",
    "\n",
    "logging.basicConfig(format='%(asctime)s : %(levelname)s : %(message)s', level=logging.INFO, ) \n",
    "\n",
    "# train word2vec on the two sentences  \n",
    "model = word2vec.Word2Vec(sentences, size=256, min_count=1, window=10, workers=4, sg=0) \n",
    "\n",
    "# sg=0 表示COBW, sg=1 表示skip-gram"
   ]
  },
  {
   "cell_type": "code",
   "execution_count": 23,
   "metadata": {},
   "outputs": [
    {
     "name": "stderr",
     "output_type": "stream",
     "text": [
      "D:\\Users\\ryanl\\Anaconda3\\lib\\site-packages\\ipykernel_launcher.py:1: DeprecationWarning: Call to deprecated `similarity` (Method will be removed in 4.0.0, use self.wv.similarity() instead).\n",
      "  \"\"\"Entry point for launching an IPython kernel.\n"
     ]
    },
    {
     "data": {
      "text/plain": [
       "-0.04533628130403215"
      ]
     },
     "execution_count": 23,
     "metadata": {},
     "output_type": "execute_result"
    }
   ],
   "source": [
    "model.similarity('I am a hero','sentence')"
   ]
  },
  {
   "cell_type": "code",
   "execution_count": 5,
   "metadata": {},
   "outputs": [
    {
     "name": "stderr",
     "output_type": "stream",
     "text": [
      "2019-03-11 10:51:28,819 : INFO : saving Word2Vec object under hwmodel, separately None\n",
      "2019-03-11 10:51:28,822 : INFO : not storing attribute vectors_norm\n",
      "2019-03-11 10:51:28,824 : INFO : not storing attribute cum_table\n",
      "2019-03-11 10:51:28,833 : INFO : saved hwmodel\n",
      "2019-03-11 10:51:28,834 : INFO : loading Word2Vec object from hwmodel\n",
      "2019-03-11 10:51:28,835 : INFO : loading wv recursively from hwmodel.wv.* with mmap=None\n",
      "2019-03-11 10:51:28,836 : INFO : setting ignored attribute vectors_norm to None\n",
      "2019-03-11 10:51:28,837 : INFO : loading vocabulary recursively from hwmodel.vocabulary.* with mmap=None\n",
      "2019-03-11 10:51:28,838 : INFO : loading trainables recursively from hwmodel.trainables.* with mmap=None\n",
      "2019-03-11 10:51:28,839 : INFO : setting ignored attribute cum_table to None\n",
      "2019-03-11 10:51:28,839 : INFO : loaded hwmodel\n"
     ]
    }
   ],
   "source": [
    "model.save('hwmodel')  \n",
    "new_model = gensim.models.Word2Vec.load('hwmodel')  "
   ]
  }
 ],
 "metadata": {
  "kernelspec": {
   "display_name": "Python 3",
   "language": "python",
   "name": "python3"
  },
  "language_info": {
   "codemirror_mode": {
    "name": "ipython",
    "version": 3
   },
   "file_extension": ".py",
   "mimetype": "text/x-python",
   "name": "python",
   "nbconvert_exporter": "python",
   "pygments_lexer": "ipython3",
   "version": "3.6.4"
  }
 },
 "nbformat": 4,
 "nbformat_minor": 2
}
