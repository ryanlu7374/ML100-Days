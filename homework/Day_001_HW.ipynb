{
 "cells": [
  {
   "cell_type": "markdown",
   "metadata": {},
   "source": [
    "## 練習時間\n",
    "#### 請寫一個函式用來計算 Mean Square Error\n",
    "$ MSE = \\frac{1}{n}\\sum_{i=1}^{n}{(Y_i - \\hat{Y}_i)^2} $\n",
    "\n",
    "### Hint: [如何取平方](https://googoodesign.gitbooks.io/-ezpython/unit-1.html)"
   ]
  },
  {
   "cell_type": "code",
   "execution_count": 1,
   "metadata": {},
   "outputs": [],
   "source": [
    "import numpy as np\n",
    "import matplotlib.pyplot as plt"
   ]
  },
  {
   "cell_type": "code",
   "execution_count": 2,
   "metadata": {},
   "outputs": [],
   "source": [
    "def mean_squared_error(y, yp):\n",
    "    \"\"\"\n",
    "    計算 MSE\n",
    "    Args:\n",
    "        - y: 實際值\n",
    "        - yp: 預測值\n",
    "    Return:\n",
    "        - mse: MSE\n",
    "    \"\"\"\n",
    "    mse = sum((y - yp)**2) / len(y)\n",
    "    return mse"
   ]
  },
  {
   "cell_type": "code",
   "execution_count": 3,
   "metadata": {},
   "outputs": [],
   "source": [
    "def mean_absolute_error(y, yp):\n",
    "    \"\"\"\n",
    "    計算 MAE\n",
    "    Args:\n",
    "        - y: 實際值\n",
    "        - yp: 預測值\n",
    "    Return:\n",
    "        - mae: MAE\n",
    "    \"\"\"\n",
    "    mae = MAE = sum(abs(y - yp)) / len(y)\n",
    "    return mae"
   ]
  },
  {
   "cell_type": "code",
   "execution_count": 4,
   "metadata": {},
   "outputs": [
    {
     "data": {
      "image/png": "[encoded data removed]",
      "text/plain": [
       "<matplotlib.figure.Figure at 0x1a3ffc194e0>"
      ]
     },
     "metadata": {},
     "output_type": "display_data"
    }
   ],
   "source": [
    "w = 3\n",
    "b = 0.5\n",
    "\n",
    "x_lin = np.linspace(0, 100, 101)\n",
    "\n",
    "y = (x_lin + np.random.randn(101) * 5) * w + b\n",
    "\n",
    "plt.plot(x_lin, y, 'b.', label = 'data points')\n",
    "plt.title(\"Assume we have data points\")\n",
    "plt.legend(loc = 2)\n",
    "plt.show()"
   ]
  },
  {
   "cell_type": "code",
   "execution_count": 5,
   "metadata": {},
   "outputs": [
    {
     "data": {
      "image/png": "[encoded data removed]",
      "text/plain": [
       "<matplotlib.figure.Figure at 0x1a3ffee3ac8>"
      ]
     },
     "metadata": {},
     "output_type": "display_data"
    }
   ],
   "source": [
    "y_hat = x_lin * w + b\n",
    "plt.plot(x_lin, y, 'b.', label = 'data')\n",
    "plt.plot(x_lin, y_hat, 'r-', label = 'prediction')\n",
    "plt.title(\"Assume we have data points (And the prediction)\")\n",
    "plt.legend(loc = 2)\n",
    "plt.show()"
   ]
  },
  {
   "cell_type": "code",
   "execution_count": 6,
   "metadata": {},
   "outputs": [
    {
     "name": "stdout",
     "output_type": "stream",
     "text": [
      "The Mean squared error is 213.627\n",
      "The Mean absolute error is 11.320\n"
     ]
    }
   ],
   "source": [
    "# 執行 Function, 確認有沒有正常執行\n",
    "MSE = mean_squared_error(y, y_hat)\n",
    "MAE = mean_absolute_error(y, y_hat)\n",
    "print(\"The Mean squared error is %.3f\" % (MSE))\n",
    "print(\"The Mean absolute error is %.3f\" % (MAE))"
   ]
  },
  {
   "cell_type": "code",
   "execution_count": 7,
   "metadata": {},
   "outputs": [
    {
     "data": {
      "text/plain": [
       "213.62665249740095"
      ]
     },
     "execution_count": 7,
     "metadata": {},
     "output_type": "execute_result"
    }
   ],
   "source": [
    "\"\"\"Validation\"\"\"\n",
    "from sklearn.metrics import mean_squared_error\n",
    "mean_squared_error(y, y_hat)"
   ]
  },
  {
   "cell_type": "markdown",
   "metadata": {},
   "source": [
    "# 作業一"
   ]
  },
  {
   "attachments": {},
   "cell_type": "markdown",
   "metadata": {},
   "source": [
    "請上 Kaggle, 在 Competitions 或 Dataset 中找一組競賽或資料並寫下：\n",
    "\n",
    "1. 你選的這組資料為何重要\n",
    "Ans:\n",
    "Two Sigma: Using News to Predict Stock Movements。 https://www.kaggle.com/c/two-sigma-financial-news\n",
    "a.資料方便性:利用網路垂手可得數據使得任何投資者(尤其是沒有研究機構的散戶)都能做出更好的投資決策。\n",
    "b.廣泛實用性:同理來說，也可預測經濟、產業走勢，對商業發展也能做出更好的決策。\n",
    "\n",
    "2. 資料從何而來 (tips: 譬如提供者是誰、以什麼方式蒐集)\n",
    "Ans:\n",
    "a.市場數據提供者: Intrinio，包含金融市場信息，如開盤價，收盤價，交易量，計算回報等。 \n",
    "b.新聞數據資料來源：湯森路透，包含有關資產的新聞文章/警報信息，如文章詳情，情緒和其他評論。\n",
    "\n",
    "3. 蒐集而來的資料型態為何\n",
    "Ans:\n",
    "a.結構化數據，表格。\n",
    "\n",
    "4. 這組資料想解決的問題如何評估\n",
    "Ans:\n",
    "a.將預測股價與未來股價做回歸分析，並且避免單一大波動造成重大損失，所以使用MSE評估。"
   ]
  },
  {
   "cell_type": "markdown",
   "metadata": {},
   "source": [
    "# 作業二"
   ]
  },
  {
   "attachments": {},
   "cell_type": "markdown",
   "metadata": {},
   "source": [
    "想像你經營一個自由載客車車隊，你希望能透過數據分析以提升業績，請你思考並描述你如何規劃整體的分析 / 解決方案\n",
    "\n",
    "1. 核心問題為何  (tips:  如何定義   提升業績  &  你的假設 ) \n",
    "Ans:\n",
    "假設每輛車原本1天跑8小時，其中空車總時間2小時，載客總時間6小時，日淨賺(扣油錢)2000元，每小時淨賺金額2000/8=250元，\n",
    "朝向 增加載客總時間 與 優化行車距離 為目標，提高每小時淨賺金額達300元。\n",
    "\n",
    "2. 資料從何而來  (tips:  哪些資料可能會對你想問的問題產生影響  &  資料如何蒐集 )\n",
    "Ans:\n",
    "a.相關資料:\n",
    "每天每小時各地區的搭車乘客(影響派車系統)、\n",
    "乘客最常跑的路線(影響派車系統)、\n",
    "每天搭車總人數(淡旺季)、\n",
    "天氣與搭車人數(影響自行開車意願)、\n",
    "油價與搭車人數(影響自行開車意願)。\n",
    "\n",
    "b.資料蒐集: \n",
    "車隊業者合作:蒐集乘客相關資料、常跑路線資料、\n",
    "       爬蟲:每日天氣/油價。\n",
    "\n",
    "3. 蒐集而來的資料型態為何\n",
    "Ans:\n",
    "a.結構化數據，表格。\n",
    "\n",
    "4. 你要回答的問題，其如何評估  (tips:  你的假設如何驗證 ) \n",
    "Ans:\n",
    "a.經由數據分析，提供最佳載客系統，評估每周載客總時間是否增加 與 優化行車距離是否縮短。"
   ]
  },
  {
   "cell_type": "code",
   "execution_count": null,
   "metadata": {},
   "outputs": [],
   "source": []
  }
 ],
 "metadata": {
  "anaconda-cloud": {},
  "kernelspec": {
   "display_name": "Python 3",
   "language": "python",
   "name": "python3"
  },
  "language_info": {
   "codemirror_mode": {
    "name": "ipython",
    "version": 3
   },
   "file_extension": ".py",
   "mimetype": "text/x-python",
   "name": "python",
   "nbconvert_exporter": "python",
   "pygments_lexer": "ipython3",
   "version": "3.6.4"
  }
 },
 "nbformat": 4,
 "nbformat_minor": 1
}
