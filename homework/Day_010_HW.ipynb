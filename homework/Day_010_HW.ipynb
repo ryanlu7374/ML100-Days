{
 "cells": [
  {
   "cell_type": "code",
   "execution_count": 1,
   "metadata": {},
   "outputs": [],
   "source": [
    "# Import 需要的套件\n",
    "import os\n",
    "import numpy as np\n",
    "import pandas as pd\n",
    "\n",
    "import matplotlib.pyplot as plt\n",
    "%matplotlib inline"
   ]
  },
  {
   "cell_type": "code",
   "execution_count": 2,
   "metadata": {},
   "outputs": [
    {
     "name": "stdout",
     "output_type": "stream",
     "text": [
      "original app_train : \n",
      " (307511, 122)\n",
      "one_hot app_train : \n",
      " (307511, 243)\n",
      "ANOM app_train : \n",
      " (307511, 244)\n"
     ]
    }
   ],
   "source": [
    "# 設定 data_path\n",
    "dir_data = '../../Data/Part01/'\n",
    "f_app_train = os.path.join(dir_data, 'application_train.csv')\n",
    "f_app_test = os.path.join(dir_data, 'application_test.csv')\n",
    "\n",
    "app_train = pd.read_csv(f_app_train)\n",
    "app_test = pd.read_csv(f_app_test)\n",
    "\n",
    "from sklearn.preprocessing import LabelEncoder\n",
    "\n",
    "# Create a label encoder object\n",
    "le = LabelEncoder()\n",
    "le_count = 0\n",
    "\n",
    "# Iterate through the columns\n",
    "for col in app_train:                                               # 直接讀columns，不用 app_train.columns\n",
    "#     print(col)\n",
    "    if app_train[col].dtype == 'object':\n",
    "        # If 2 or fewer unique categories\n",
    "        if len(list(app_train[col].unique())) <= 2:\n",
    "            # Train on the training data\n",
    "            le.fit(app_train[col])                                  # fit 辨識多少label，transform以這規則去轉換\n",
    "            # Transform both training and testing data\n",
    "#             print('original app_train :', col, '\\n', app_train[col])\n",
    "            app_train[col] = le.transform(app_train[col])\n",
    "            app_test[col] = le.transform(app_test[col])\n",
    "#             print('app_train :', col, '\\n', app_train[col])\n",
    "           # Keep track of how many columns were label encoded\n",
    "            le_count += 1\n",
    "print('original app_train :', '\\n', app_train.shape)   \n",
    "# print('original app_train :', '\\n', app_train.head()) \n",
    "app_train = pd.get_dummies(app_train)\n",
    "print('one_hot app_train :', '\\n', app_train.shape) \n",
    "# print('app_train :', '\\n', app_train.head())\n",
    "app_test = pd.get_dummies(app_test)\n",
    "\n",
    "# Create an anomalous flag column\n",
    "app_train['DAYS_EMPLOYED_ANOM'] = app_train[\"DAYS_EMPLOYED\"] == 365243\n",
    "app_train['DAYS_EMPLOYED'].replace({365243: np.nan}, inplace = True)\n",
    "print('ANOM app_train :', '\\n', app_train.shape) \n",
    "# also apply to testing dataset\n",
    "app_test['DAYS_EMPLOYED_ANOM'] = app_test[\"DAYS_EMPLOYED\"] == 365243\n",
    "app_test[\"DAYS_EMPLOYED\"].replace({365243: np.nan}, inplace = True)\n",
    "\n",
    "# absolute the value of DAYS_BIRTH\n",
    "app_train['DAYS_BIRTH'] = abs(app_train['DAYS_BIRTH'])\n",
    "app_test['DAYS_BIRTH'] = abs(app_test['DAYS_BIRTH'])"
   ]
  },
  {
   "cell_type": "markdown",
   "metadata": {},
   "source": [
    "### 相關係數\n",
    "一樣，pandas 很貼心地讓我們可以非常容易計算相關係數"
   ]
  },
  {
   "cell_type": "code",
   "execution_count": 3,
   "metadata": {},
   "outputs": [
    {
     "data": {
      "text/plain": [
       "SK_ID_CURR                                 -0.002108\n",
       "TARGET                                      1.000000\n",
       "NAME_CONTRACT_TYPE                         -0.030896\n",
       "FLAG_OWN_CAR                               -0.021851\n",
       "FLAG_OWN_REALTY                            -0.006148\n",
       "CNT_CHILDREN                                0.019187\n",
       "AMT_INCOME_TOTAL                           -0.003982\n",
       "AMT_CREDIT                                 -0.030369\n",
       "AMT_ANNUITY                                -0.012817\n",
       "AMT_GOODS_PRICE                            -0.039645\n",
       "REGION_POPULATION_RELATIVE                 -0.037227\n",
       "DAYS_BIRTH                                 -0.078239\n",
       "DAYS_EMPLOYED                               0.074958\n",
       "DAYS_REGISTRATION                           0.041975\n",
       "DAYS_ID_PUBLISH                             0.051457\n",
       "OWN_CAR_AGE                                 0.037612\n",
       "FLAG_MOBIL                                  0.000534\n",
       "FLAG_EMP_PHONE                              0.045982\n",
       "FLAG_WORK_PHONE                             0.028524\n",
       "FLAG_CONT_MOBILE                            0.000370\n",
       "FLAG_PHONE                                 -0.023806\n",
       "FLAG_EMAIL                                 -0.001758\n",
       "CNT_FAM_MEMBERS                             0.009308\n",
       "REGION_RATING_CLIENT                        0.058899\n",
       "REGION_RATING_CLIENT_W_CITY                 0.060893\n",
       "HOUR_APPR_PROCESS_START                    -0.024166\n",
       "REG_REGION_NOT_LIVE_REGION                  0.005576\n",
       "REG_REGION_NOT_WORK_REGION                  0.006942\n",
       "LIVE_REGION_NOT_WORK_REGION                 0.002819\n",
       "REG_CITY_NOT_LIVE_CITY                      0.044395\n",
       "                                              ...   \n",
       "ORGANIZATION_TYPE_Trade: type 1             0.001032\n",
       "ORGANIZATION_TYPE_Trade: type 2            -0.003105\n",
       "ORGANIZATION_TYPE_Trade: type 3             0.008911\n",
       "ORGANIZATION_TYPE_Trade: type 4            -0.002621\n",
       "ORGANIZATION_TYPE_Trade: type 5            -0.000904\n",
       "ORGANIZATION_TYPE_Trade: type 6            -0.005788\n",
       "ORGANIZATION_TYPE_Trade: type 7             0.008170\n",
       "ORGANIZATION_TYPE_Transport: type 1        -0.003375\n",
       "ORGANIZATION_TYPE_Transport: type 2        -0.000839\n",
       "ORGANIZATION_TYPE_Transport: type 3         0.017552\n",
       "ORGANIZATION_TYPE_Transport: type 4         0.005929\n",
       "ORGANIZATION_TYPE_University               -0.007672\n",
       "ORGANIZATION_TYPE_XNA                      -0.045987\n",
       "FONDKAPREMONT_MODE_not specified           -0.002667\n",
       "FONDKAPREMONT_MODE_org spec account        -0.011285\n",
       "FONDKAPREMONT_MODE_reg oper account        -0.022587\n",
       "FONDKAPREMONT_MODE_reg oper spec account   -0.011257\n",
       "HOUSETYPE_MODE_block of flats              -0.040594\n",
       "HOUSETYPE_MODE_specific housing             0.005311\n",
       "HOUSETYPE_MODE_terraced house               0.000982\n",
       "WALLSMATERIAL_MODE_Block                   -0.006777\n",
       "WALLSMATERIAL_MODE_Mixed                   -0.001713\n",
       "WALLSMATERIAL_MODE_Monolithic              -0.009384\n",
       "WALLSMATERIAL_MODE_Others                   0.000628\n",
       "WALLSMATERIAL_MODE_Panel                   -0.033119\n",
       "WALLSMATERIAL_MODE_Stone, brick            -0.012657\n",
       "WALLSMATERIAL_MODE_Wooden                   0.007946\n",
       "EMERGENCYSTATE_MODE_No                     -0.042201\n",
       "EMERGENCYSTATE_MODE_Yes                     0.004829\n",
       "DAYS_EMPLOYED_ANOM                         -0.045987\n",
       "Name: TARGET, Length: 244, dtype: float64"
      ]
     },
     "execution_count": 3,
     "metadata": {},
     "output_type": "execute_result"
    }
   ],
   "source": [
    "TARGET_corr = app_train.corr()['TARGET']\n",
    "TARGET_corr "
   ]
  },
  {
   "cell_type": "code",
   "execution_count": 4,
   "metadata": {},
   "outputs": [],
   "source": [
    "# app_train.corr()"
   ]
  },
  {
   "cell_type": "markdown",
   "metadata": {},
   "source": [
    "## 練習時間\n",
    "列出目標 (TARGET) 與所有欄位之間相關係數，數值最大以及最小各 15 個\n",
    "\n",
    "通過相關係數的結果觀察有興趣的欄位與 TARGET 或其他欄位的相關係數，並嘗試找出有趣的訊息\n",
    "- 最好的方式當然是畫圖，舉例來說，我們知道  EXT_SOURCE_3 這個欄位和 TARGET 之間的相關係數是 -0.178919 (在已經這個資料集已經是最負的了！)，那我們可以 EXT_SOURCE_3  為 x 軸， TARGET 為 y 軸，把資料給畫出來"
   ]
  },
  {
   "cell_type": "code",
   "execution_count": 5,
   "metadata": {},
   "outputs": [
    {
     "name": "stdout",
     "output_type": "stream",
     "text": [
      "correlation coefficient first 15 : \n",
      " TARGET                                               1.000000\n",
      "DAYS_EMPLOYED                                        0.074958\n",
      "REGION_RATING_CLIENT_W_CITY                          0.060893\n",
      "REGION_RATING_CLIENT                                 0.058899\n",
      "NAME_INCOME_TYPE_Working                             0.057481\n",
      "DAYS_LAST_PHONE_CHANGE                               0.055218\n",
      "CODE_GENDER_M                                        0.054713\n",
      "DAYS_ID_PUBLISH                                      0.051457\n",
      "REG_CITY_NOT_WORK_CITY                               0.050994\n",
      "NAME_EDUCATION_TYPE_Secondary / secondary special    0.049824\n",
      "FLAG_EMP_PHONE                                       0.045982\n",
      "REG_CITY_NOT_LIVE_CITY                               0.044395\n",
      "FLAG_DOCUMENT_3                                      0.044346\n",
      "OCCUPATION_TYPE_Laborers                             0.043019\n",
      "DAYS_REGISTRATION                                    0.041975\n",
      "OWN_CAR_AGE                                          0.037612\n",
      "Name: TARGET, dtype: float64 \n",
      "\n",
      "correlation coefficient last 15 : \n",
      " EXT_SOURCE_3                           -0.178919\n",
      "EXT_SOURCE_2                           -0.160472\n",
      "EXT_SOURCE_1                           -0.155317\n",
      "DAYS_BIRTH                             -0.078239\n",
      "NAME_EDUCATION_TYPE_Higher education   -0.056593\n",
      "CODE_GENDER_F                          -0.054704\n",
      "NAME_INCOME_TYPE_Pensioner             -0.046209\n",
      "ORGANIZATION_TYPE_XNA                  -0.045987\n",
      "DAYS_EMPLOYED_ANOM                     -0.045987\n",
      "FLOORSMAX_AVG                          -0.044003\n",
      "FLOORSMAX_MEDI                         -0.043768\n",
      "FLOORSMAX_MODE                         -0.043226\n",
      "EMERGENCYSTATE_MODE_No                 -0.042201\n",
      "HOUSETYPE_MODE_block of flats          -0.040594\n",
      "AMT_GOODS_PRICE                        -0.039645\n",
      "Name: TARGET, dtype: float64 \n",
      "\n"
     ]
    }
   ],
   "source": [
    "Corr_First15 = TARGET_corr.sort_values(ascending=False)[0:16]\n",
    "Corr_last15 = TARGET_corr.sort_values(ascending=True)[0:15]\n",
    "print('correlation coefficient first 15 :', '\\n', Corr_First15, '\\n')\n",
    "print('correlation coefficient last 15 :', '\\n', Corr_last15, '\\n')"
   ]
  },
  {
   "cell_type": "code",
   "execution_count": 6,
   "metadata": {},
   "outputs": [
    {
     "data": {
      "image/png": "[encoded data removed]",
      "text/plain": [
       "<Figure size 432x288 with 1 Axes>"
      ]
     },
     "metadata": {},
     "output_type": "display_data"
    },
    {
     "name": "stdout",
     "output_type": "stream",
     "text": [
      "Correlation: 0.0750\n"
     ]
    }
   ],
   "source": [
    "# 如果直接畫散布圖 - 看不出任何趨勢或形態\n",
    "plt.plot(app_train[Corr_First15.index[0]], app_train[Corr_First15.index[1]] /(-365), '.')\n",
    "plt.xlabel(Corr_First15.index[0])\n",
    "plt.ylabel(Corr_First15.index[1] + ' (year)')\n",
    "plt.show()\n",
    "print(\"Correlation: %.4f\" % (Corr_First15[1]))"
   ]
  },
  {
   "cell_type": "code",
   "execution_count": 7,
   "metadata": {},
   "outputs": [
    {
     "data": {
      "image/png": "[encoded data removed]",
      "text/plain": [
       "<Figure size 432x288 with 1 Axes>"
      ]
     },
     "metadata": {},
     "output_type": "display_data"
    }
   ],
   "source": [
    "#DAYS_EMPLOYED\n",
    "app_train_nonan = app_train[~app_train[Corr_First15.index[1]].isnull()]\n",
    "Tatget_0 = app_train_nonan[app_train_nonan[Corr_First15.index[0]]==0][Corr_First15.index[1]]\n",
    "Tatget_1 = app_train_nonan[app_train_nonan[Corr_First15.index[0]]==1][Corr_First15.index[1]]\n",
    "\n",
    "plt.boxplot((Tatget_0 /(-365),Tatget_1 /(-365)),labels=('Tatget_0','Tatget_1'))\n",
    "plt.xlabel(Corr_First15.index[0])\n",
    "plt.ylabel(Corr_First15.index[1] +' (year)')\n",
    "plt.show()\n",
    "#可以觀察到工作時間越短，需要貸款的人數越高。工作時間長短與財務困難似乎無關"
   ]
  },
  {
   "cell_type": "code",
   "execution_count": 8,
   "metadata": {},
   "outputs": [
    {
     "data": {
      "image/png": "[encoded data removed]",
      "text/plain": [
       "<Figure size 432x288 with 1 Axes>"
      ]
     },
     "metadata": {},
     "output_type": "display_data"
    }
   ],
   "source": [
    "#DAYS_LAST_PHONE_CHANGE\n",
    "app_train_nonan = app_train[~app_train[Corr_First15.index[5]].isnull()]\n",
    "Tatget_0 = app_train_nonan[app_train_nonan[Corr_First15.index[0]]==0][Corr_First15.index[5]]\n",
    "Tatget_1 = app_train_nonan[app_train_nonan[Corr_First15.index[0]]==1][Corr_First15.index[5]]\n",
    "\n",
    "plt.boxplot((Tatget_0 /(-365),Tatget_1 /(-365)),labels=('Tatget_0','Tatget_1'))\n",
    "plt.xlabel(Corr_First15.index[0])\n",
    "plt.ylabel(Corr_First15.index[5] +' (year)')\n",
    "plt.show()\n",
    "#可以觀察到常換電話，需要貸款的人數越高。"
   ]
  },
  {
   "cell_type": "code",
   "execution_count": 9,
   "metadata": {},
   "outputs": [
    {
     "data": {
      "image/png": "[encoded data removed]",
      "text/plain": [
       "<Figure size 432x288 with 1 Axes>"
      ]
     },
     "metadata": {},
     "output_type": "display_data"
    }
   ],
   "source": [
    "#DAYS_ID_PUBLISH\n",
    "app_train_nonan = app_train[~app_train[Corr_First15.index[7]].isnull()]\n",
    "Tatget_0 = app_train_nonan[app_train_nonan[Corr_First15.index[0]]==0][Corr_First15.index[7]]\n",
    "Tatget_1 = app_train_nonan[app_train_nonan[Corr_First15.index[0]]==1][Corr_First15.index[7]]\n",
    "\n",
    "plt.boxplot((Tatget_0 /(-365),Tatget_1 /(-365)),labels=('Tatget_0','Tatget_1'))\n",
    "plt.xlabel(Corr_First15.index[0])\n",
    "plt.ylabel(Corr_First15.index[7] +' (year)')\n",
    "plt.show()"
   ]
  },
  {
   "cell_type": "code",
   "execution_count": 10,
   "metadata": {},
   "outputs": [
    {
     "data": {
      "image/png": "[encoded data removed]",
      "text/plain": [
       "<Figure size 432x288 with 1 Axes>"
      ]
     },
     "metadata": {},
     "output_type": "display_data"
    }
   ],
   "source": [
    "#OWN_CAR_AGE\n",
    "app_train_nonan = app_train[~app_train[Corr_First15.index[15]].isnull()]\n",
    "Tatget_0 = app_train_nonan[app_train_nonan[Corr_First15.index[0]]==0][Corr_First15.index[15]]\n",
    "Tatget_1 = app_train_nonan[app_train_nonan[Corr_First15.index[0]]==1][Corr_First15.index[15]]\n",
    "\n",
    "plt.boxplot((Tatget_0 /(365),Tatget_1 /(365)),labels=('Tatget_0','Tatget_1'))\n",
    "plt.xlabel(Corr_First15.index[0])\n",
    "plt.ylabel(Corr_First15.index[15] +' (year)')\n",
    "plt.show()\n",
    "#可以觀察到買車時間越近，需要貸款的人數越高。"
   ]
  },
  {
   "cell_type": "code",
   "execution_count": 11,
   "metadata": {},
   "outputs": [
    {
     "data": {
      "text/plain": [
       "Text(0, 0.5, 'EXT_SOURCE_3')"
      ]
     },
     "execution_count": 11,
     "metadata": {},
     "output_type": "execute_result"
    },
    {
     "data": {
      "image/png": "[encoded data removed]",
      "text/plain": [
       "<Figure size 432x288 with 1 Axes>"
      ]
     },
     "metadata": {},
     "output_type": "display_data"
    }
   ],
   "source": [
    "#EXT_SOURCE_3\n",
    "app_train_nonan = app_train[~app_train[Corr_last15.index[0]].isnull()]\n",
    "Tatget_0 = app_train_nonan[app_train_nonan[Corr_First15.index[0]]==0][Corr_last15.index[0]]\n",
    "Tatget_1 = app_train_nonan[app_train_nonan[Corr_First15.index[0]]==1][Corr_last15.index[0]]\n",
    "\n",
    "plt.boxplot((Tatget_0,Tatget_1),labels=('Tatget_0','Tatget_1'))\n",
    "plt.xlabel(Corr_First15.index[0])\n",
    "plt.ylabel(Corr_last15.index[0])\n",
    "#不知道外部數據來源"
   ]
  },
  {
   "cell_type": "code",
   "execution_count": 12,
   "metadata": {},
   "outputs": [
    {
     "data": {
      "text/plain": [
       "Text(0, 0.5, 'DAYS_BIRTH')"
      ]
     },
     "execution_count": 12,
     "metadata": {},
     "output_type": "execute_result"
    },
    {
     "data": {
      "image/png": "[encoded data removed]",
      "text/plain": [
       "<Figure size 432x288 with 1 Axes>"
      ]
     },
     "metadata": {},
     "output_type": "display_data"
    }
   ],
   "source": [
    "#DAYS_BIRTH\n",
    "app_train_nonan = app_train[~app_train[Corr_last15.index[3]].isnull()]\n",
    "Tatget_0 = app_train_nonan[app_train_nonan[Corr_First15.index[0]]==0][Corr_last15.index[3]]\n",
    "Tatget_1 = app_train_nonan[app_train_nonan[Corr_First15.index[0]]==1][Corr_last15.index[3]]\n",
    "\n",
    "plt.boxplot((Tatget_0 /(365),Tatget_1 /(365)),labels=('Tatget_0','Tatget_1'))\n",
    "plt.xlabel(Corr_First15.index[0])\n",
    "plt.ylabel(Corr_last15.index[3])"
   ]
  },
  {
   "cell_type": "code",
   "execution_count": 13,
   "metadata": {},
   "outputs": [
    {
     "data": {
      "text/plain": [
       "Text(0, 0.5, 'FLOORSMAX_AVG')"
      ]
     },
     "execution_count": 13,
     "metadata": {},
     "output_type": "execute_result"
    },
    {
     "data": {
      "image/png": "[encoded data removed]",
      "text/plain": [
       "<Figure size 432x288 with 1 Axes>"
      ]
     },
     "metadata": {},
     "output_type": "display_data"
    }
   ],
   "source": [
    "#FLOORSMAX_AVG\n",
    "app_train_nonan = app_train[~app_train[Corr_last15.index[9]].isnull()]\n",
    "Tatget_0 = app_train_nonan[app_train_nonan[Corr_First15.index[0]]==0][Corr_last15.index[9]]\n",
    "Tatget_1 = app_train_nonan[app_train_nonan[Corr_First15.index[0]]==1][Corr_last15.index[9]]\n",
    "\n",
    "plt.boxplot((Tatget_0, Tatget_1),labels=('Tatget_0','Tatget_1'))\n",
    "plt.xlabel(Corr_First15.index[0])\n",
    "plt.ylabel(Corr_last15.index[9])"
   ]
  },
  {
   "cell_type": "code",
   "execution_count": 14,
   "metadata": {},
   "outputs": [
    {
     "data": {
      "text/plain": [
       "Text(0, 0.5, 'AMT_GOODS_PRICE (value_log)')"
      ]
     },
     "execution_count": 14,
     "metadata": {},
     "output_type": "execute_result"
    },
    {
     "data": {
      "image/png": "[encoded data removed]",
      "text/plain": [
       "<Figure size 432x288 with 1 Axes>"
      ]
     },
     "metadata": {},
     "output_type": "display_data"
    }
   ],
   "source": [
    "#FLOORSMAX_AVG\n",
    "app_train_nonan = app_train[~app_train[Corr_last15.index[14]].isnull()]\n",
    "Tatget_0 = app_train_nonan[app_train_nonan[Corr_First15.index[0]]==0][Corr_last15.index[14]]\n",
    "Tatget_1 = app_train_nonan[app_train_nonan[Corr_First15.index[0]]==1][Corr_last15.index[14]]\n",
    "\n",
    "plt.boxplot((np.log(Tatget_0), np.log(Tatget_1)),labels=('Tatget_0','Tatget_1'))\n",
    "plt.xlabel(Corr_First15.index[0])\n",
    "plt.ylabel(Corr_last15.index[14] + ' (value_log)')"
   ]
  }
 ],
 "metadata": {
  "kernelspec": {
   "display_name": "Python 3",
   "language": "python",
   "name": "python3"
  },
  "language_info": {
   "codemirror_mode": {
    "name": "ipython",
    "version": 3
   },
   "file_extension": ".py",
   "mimetype": "text/x-python",
   "name": "python",
   "nbconvert_exporter": "python",
   "pygments_lexer": "ipython3",
   "version": "3.6.4"
  }
 },
 "nbformat": 4,
 "nbformat_minor": 2
}
