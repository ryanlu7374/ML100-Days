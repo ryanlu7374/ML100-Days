{
 "cells": [
  {
   "cell_type": "markdown",
   "metadata": {},
   "source": [
    "## 練習時間\n",
    "試著使用 sklearn datasets 的其他資料集 (boston, ...)，來訓練自己的線性迴歸模型，並加上適當的正則話來觀察訓練情形。"
   ]
  },
  {
   "cell_type": "markdown",
   "metadata": {},
   "source": [
    "## import 需要的套件"
   ]
  },
  {
   "cell_type": "code",
   "execution_count": 1,
   "metadata": {},
   "outputs": [],
   "source": [
    "import numpy as np\n",
    "import matplotlib.pyplot as plt\n",
    "from sklearn import datasets, linear_model\n",
    "from sklearn.model_selection import train_test_split\n",
    "from sklearn.metrics import mean_squared_error, r2_score, accuracy_score"
   ]
  },
  {
   "cell_type": "code",
   "execution_count": 2,
   "metadata": {},
   "outputs": [
    {
     "name": "stdout",
     "output_type": "stream",
     "text": [
      "(506, 13)\n",
      "(506,)\n"
     ]
    }
   ],
   "source": [
    "boston = datasets.load_boston()\n",
    "data = boston.data\n",
    "target = boston.target\n",
    "print(data.shape)\n",
    "print(target.shape)"
   ]
  },
  {
   "cell_type": "code",
   "execution_count": 3,
   "metadata": {},
   "outputs": [
    {
     "name": "stdout",
     "output_type": "stream",
     "text": [
      "(379, 13)\n",
      "(127, 13)\n"
     ]
    }
   ],
   "source": [
    "X_train, X_Valid, y_train, y_Valid = train_test_split(data, target, test_size=0.25)\n",
    "print(X_train.shape)\n",
    "print(X_Valid.shape)\n",
    "\n",
    "reg = linear_model.LinearRegression()\n",
    "\n",
    "reg.fit(X_train, y_train)\n",
    "\n",
    "y_pred = reg.predict(X_Valid)"
   ]
  },
  {
   "cell_type": "code",
   "execution_count": 4,
   "metadata": {},
   "outputs": [
    {
     "name": "stdout",
     "output_type": "stream",
     "text": [
      "Coefficients:  \n",
      " [-1.20331402e-01  5.20329303e-02  5.97928229e-03  2.72984900e+00\n",
      " -1.88494871e+01  3.41131339e+00  1.18812968e-02 -1.57811960e+00\n",
      "  3.26377356e-01 -1.28476170e-02 -9.59480857e-01  8.90756286e-03\n",
      " -5.64268116e-01] \n",
      "\n",
      "Intercepts:  39.99469777918214 \n",
      "\n",
      "Mean squared error: 19.63\n"
     ]
    }
   ],
   "source": [
    "print('Coefficients: ', '\\n', reg.coef_, '\\n')\n",
    "print('Intercepts: ', reg.intercept_, '\\n')\n",
    "\n",
    "print(\"Mean squared error: %.2f\"\n",
    "      % mean_squared_error(y_Valid, y_pred))"
   ]
  },
  {
   "cell_type": "markdown",
   "metadata": {},
   "source": [
    "## LASSO"
   ]
  },
  {
   "cell_type": "code",
   "execution_count": 14,
   "metadata": {},
   "outputs": [
    {
     "name": "stdout",
     "output_type": "stream",
     "text": [
      "Coefficients:  \n",
      " [-1.11130683e-01  5.62689962e-02 -6.14490439e-02  1.36229066e+00\n",
      " -0.00000000e+00  3.32920294e+00 -8.64304169e-04 -1.26143627e+00\n",
      "  3.10346653e-01 -1.58739296e-02 -7.37428528e-01  9.98283069e-03\n",
      " -6.09149103e-01] \n",
      "\n",
      "Intercepts:  27.97605652004342 \n",
      "\n",
      "Mean squared error: 20.42\n"
     ]
    }
   ],
   "source": [
    "lso = linear_model.Lasso(alpha=0.1)\n",
    "\n",
    "lso.fit(X_train, y_train)\n",
    "\n",
    "y_pred = lso.predict(X_Valid)\n",
    "\n",
    "print('Coefficients: ', '\\n', lso.coef_, '\\n')\n",
    "print('Intercepts: ', lso.intercept_, '\\n')\n",
    "\n",
    "print(\"Mean squared error: %.2f\"\n",
    "      % mean_squared_error(y_Valid, y_pred))"
   ]
  },
  {
   "cell_type": "code",
   "execution_count": 12,
   "metadata": {},
   "outputs": [
    {
     "name": "stdout",
     "output_type": "stream",
     "text": [
      "Coefficients:  \n",
      " [-0.08613185  0.06005537 -0.01902657  0.         -0.          0.57010372\n",
      "  0.02989577 -0.84801836  0.32316584 -0.01783571 -0.72953197  0.00759639\n",
      " -0.79371753] \n",
      "\n",
      "Intercepts:  44.892714030802644 \n",
      "\n",
      "Mean squared error: 24.77\n"
     ]
    }
   ],
   "source": [
    "lso = linear_model.Lasso(alpha=1)\n",
    "\n",
    "lso.fit(X_train, y_train)\n",
    "\n",
    "y_pred = lso.predict(X_Valid)\n",
    "\n",
    "print('Coefficients: ', '\\n', lso.coef_, '\\n')\n",
    "print('Intercepts: ', lso.intercept_, '\\n')\n",
    "\n",
    "print(\"Mean squared error: %.2f\"\n",
    "      % mean_squared_error(y_Valid, y_pred))"
   ]
  },
  {
   "cell_type": "code",
   "execution_count": 13,
   "metadata": {},
   "outputs": [
    {
     "name": "stdout",
     "output_type": "stream",
     "text": [
      "Coefficients:  \n",
      " [-0.          0.03256143 -0.          0.          0.          0.\n",
      "  0.0132686  -0.          0.         -0.00941321 -0.          0.00758399\n",
      " -0.59836241] \n",
      "\n",
      "Intercepts:  30.026376210323065 \n",
      "\n",
      "Mean squared error: 31.53\n"
     ]
    }
   ],
   "source": [
    "lso = linear_model.Lasso(alpha=10)\n",
    "\n",
    "lso.fit(X_train, y_train)\n",
    "\n",
    "y_pred = lso.predict(X_Valid)\n",
    "\n",
    "print('Coefficients: ', '\\n', lso.coef_, '\\n')\n",
    "print('Intercepts: ', lso.intercept_, '\\n')\n",
    "\n",
    "print(\"Mean squared error: %.2f\"\n",
    "      % mean_squared_error(y_Valid, y_pred))"
   ]
  },
  {
   "cell_type": "markdown",
   "metadata": {},
   "source": [
    "## Ridge"
   ]
  },
  {
   "cell_type": "code",
   "execution_count": 15,
   "metadata": {},
   "outputs": [
    {
     "name": "stdout",
     "output_type": "stream",
     "text": [
      "Coefficients:  \n",
      " [-1.19630496e-01  5.23162883e-02 -5.99879393e-04  2.72341088e+00\n",
      " -1.73333174e+01  3.42600653e+00  1.04688820e-02 -1.55583304e+00\n",
      "  3.24126796e-01 -1.30174060e-02 -9.40542458e-01  9.00124477e-03\n",
      " -5.65973843e-01] \n",
      "\n",
      "Intercepts:  38.870688603678246 \n",
      "\n",
      "Mean squared error: 19.60\n"
     ]
    }
   ],
   "source": [
    "rdg = linear_model.Ridge(alpha=0.1)\n",
    "\n",
    "rdg.fit(X_train, y_train)\n",
    "\n",
    "y_pred = rdg.predict(X_Valid)\n",
    "\n",
    "print('Coefficients: ', '\\n', rdg.coef_, '\\n')\n",
    "print('Intercepts: ', rdg.intercept_, '\\n')\n",
    "\n",
    "print(\"Mean squared error: %.2f\"\n",
    "      % mean_squared_error(y_Valid, y_pred))"
   ]
  },
  {
   "cell_type": "code",
   "execution_count": 16,
   "metadata": {},
   "outputs": [
    {
     "name": "stdout",
     "output_type": "stream",
     "text": [
      "Coefficients:  \n",
      " [-1.16372078e-01  5.37524741e-02 -3.21170118e-02  2.65158768e+00\n",
      " -1.00587438e+01  3.48123432e+00  3.84588018e-03 -1.44940998e+00\n",
      "  3.14203050e-01 -1.38741916e-02 -8.50914459e-01  9.44343126e-03\n",
      " -5.75277448e-01] \n",
      "\n",
      "Intercepts:  33.61561437006491 \n",
      "\n",
      "Mean squared error: 19.67\n"
     ]
    }
   ],
   "source": [
    "rdg = linear_model.Ridge(alpha=1)\n",
    "\n",
    "rdg.fit(X_train, y_train)\n",
    "\n",
    "y_pred = rdg.predict(X_Valid)\n",
    "\n",
    "print('Coefficients: ', '\\n', rdg.coef_, '\\n')\n",
    "print('Intercepts: ', rdg.intercept_, '\\n')\n",
    "\n",
    "print(\"Mean squared error: %.2f\"\n",
    "      % mean_squared_error(y_Valid, y_pred))"
   ]
  },
  {
   "cell_type": "code",
   "execution_count": 17,
   "metadata": {},
   "outputs": [
    {
     "name": "stdout",
     "output_type": "stream",
     "text": [
      "Coefficients:  \n",
      " [-1.14202770e-01  5.65868218e-02 -6.73730781e-02  2.01001747e+00\n",
      " -1.94630633e+00  3.28035512e+00 -9.61051957e-04 -1.33617327e+00\n",
      "  3.16628000e-01 -1.54604522e-02 -7.69925765e-01  9.79196408e-03\n",
      " -6.04308124e-01] \n",
      "\n",
      "Intercepts:  30.05046890751413 \n",
      "\n",
      "Mean squared error: 20.35\n"
     ]
    }
   ],
   "source": [
    "rdg = linear_model.Ridge(alpha=10)\n",
    "\n",
    "rdg.fit(X_train, y_train)\n",
    "\n",
    "y_pred = rdg.predict(X_Valid)\n",
    "\n",
    "print('Coefficients: ', '\\n', rdg.coef_, '\\n')\n",
    "print('Intercepts: ', rdg.intercept_, '\\n')\n",
    "\n",
    "print(\"Mean squared error: %.2f\"\n",
    "      % mean_squared_error(y_Valid, y_pred))"
   ]
  }
 ],
 "metadata": {
  "kernelspec": {
   "display_name": "Python 3",
   "language": "python",
   "name": "python3"
  },
  "language_info": {
   "codemirror_mode": {
    "name": "ipython",
    "version": 3
   },
   "file_extension": ".py",
   "mimetype": "text/x-python",
   "name": "python",
   "nbconvert_exporter": "python",
   "pygments_lexer": "ipython3",
   "version": "3.6.4"
  }
 },
 "nbformat": 4,
 "nbformat_minor": 2
}
